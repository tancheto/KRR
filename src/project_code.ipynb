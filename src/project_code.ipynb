{
 "cells": [
  {
   "cell_type": "code",
   "execution_count": 46,
   "metadata": {},
   "outputs": [],
   "source": [
    "# imports\n",
    "from owlready2 import *"
   ]
  },
  {
   "cell_type": "markdown",
   "metadata": {},
   "source": [
    "# Create ontology"
   ]
  },
  {
   "cell_type": "code",
   "execution_count": 47,
   "metadata": {},
   "outputs": [],
   "source": [
    "# create new ontology\n",
    "game_ontology = get_ontology(\"http://test.org/game_ontology.owl\")\n",
    "game_ontology.destroy()\n",
    "game_ontology = get_ontology(\"http://test.org/game_ontology.owl\")"
   ]
  },
  {
   "cell_type": "markdown",
   "metadata": {},
   "source": [
    "# Import existing ontology"
   ]
  },
  {
   "cell_type": "code",
   "execution_count": 48,
   "metadata": {},
   "outputs": [
    {
     "name": "stdout",
     "output_type": "stream",
     "text": [
      "[owl.Thing, video_game_ontology.Game, 0.1.Agent, video_game_ontology.Achievement, video_game_ontology.Character, video_game_ontology.Feature, video_game_ontology.Item, video_game_ontology.Genre, video_game_ontology.Leaderboard, video_game_ontology.PlayingArea, video_game_ontology.Session, video_game_ontology.Player, video_game_ontology.InstantaneousEvent, ontology.PopulatedPlace, video_game_ontology.GameProduct, video_game_ontology.InAppPurchaseEvent, v1.ProductOrService, video_game_ontology.Collection, video_game_ontology.Completion, video_game_ontology.Curiosity, video_game_ontology.Fandom, video_game_ontology.GainEvent, video_game_ontology.GameEvent, schema.org.Product, video_game_ontology.HardMode, video_game_ontology.LoseEvent, video_game_ontology.Loyalty, video_game_ontology.Luck, video_game_ontology.MenuEvent, video_game_ontology.Minigame, video_game_ontology.Multiplayer, video_game_ontology.Paragon, video_game_ontology.PlayerEvent, video_game_ontology.SpecialPlayStyle, video_game_ontology.Tutorial, video_game_ontology.Veteran, video_game_ontology.Virtuosity]\n"
     ]
    }
   ],
   "source": [
    "# load existing video game ontology \n",
    "if not onto_path:\n",
    "    onto_path.append(\"..\")\n",
    "video_game_ontology = get_ontology(f\"file://../video_game_ontology.owl#\").load()\n",
    "\n",
    "# importing loaded video game ontology into our game ontology\n",
    "if not game_ontology.imported_ontologies:\n",
    "    game_ontology.imported_ontologies.append(video_game_ontology)\n",
    "\n",
    "print(list(video_game_ontology.classes()))"
   ]
  },
  {
   "cell_type": "markdown",
   "metadata": {},
   "source": [
    "## Atomic concepts (classes)"
   ]
  },
  {
   "cell_type": "code",
   "execution_count": 49,
   "metadata": {},
   "outputs": [],
   "source": [
    "with game_ontology:\n",
    "    class Game(Thing):\n",
    "        pass\n",
    "    class Equipment(Thing):\n",
    "        pass\n",
    "    class Field(Thing):\n",
    "        pass    \n",
    "    class Spectator(Thing):\n",
    "        pass\n",
    "    # is it atomic??\n",
    "    class Card(Equipment):\n",
    "        pass"
   ]
  },
  {
   "cell_type": "markdown",
   "metadata": {},
   "source": [
    "## Properties"
   ]
  },
  {
   "cell_type": "code",
   "execution_count": 50,
   "metadata": {},
   "outputs": [],
   "source": [
    "with game_ontology:\n",
    "    class require(Game >> Equipment):\n",
    "        pass\n",
    "    class required_by(Equipment >> Game):\n",
    "        inverse_property = require\n",
    "        pass\n",
    "    class watch(Spectator >> Game):\n",
    "        pass\n",
    "    class watched_by(Game >> Spectator):\n",
    "        inverse_property = watch\n",
    "        pass\n",
    "    class played_on(Game >> Field):\n",
    "        pass\n",
    "    class has_players_number(Game >> int, FunctionalProperty):\n",
    "        pass\n",
    "    class has_greater_value_than(Card >> Card, TransitiveProperty):\n",
    "        pass\n",
    "    class has_less_value_than(Card >> Card, TransitiveProperty):\n",
    "        inverse_property = has_greater_value_than\n",
    "        pass\n",
    "    class has_team(Game >> bool, FunctionalProperty):\n",
    "        pass\n",
    "    class is_professional(Game >> bool, FunctionalProperty):\n",
    "        pass\n",
    "    class is_amateur(Game >> bool, FunctionalProperty):\n",
    "        Not(is_professional)\n",
    "        pass\n",
    "    class has_interest_in(Spectator >> Game):\n",
    "        pass\n",
    "    class has_to_remain_silent(Spectator >> bool, FunctionalProperty):\n",
    "        pass"
   ]
  },
  {
   "cell_type": "markdown",
   "metadata": {},
   "source": [
    "## Composed concepts (classes)"
   ]
  },
  {
   "cell_type": "code",
   "execution_count": 51,
   "metadata": {},
   "outputs": [],
   "source": [
    "with game_ontology:    \n",
    "    class MultiPlayerGame(Game):\n",
    "        equivalent_to = [Game\n",
    "                        & has_players_number.min(2)]        \n",
    "        pass\n",
    "    class SinglePlayerGame(Game):\n",
    "        equivalent_to = [Game\n",
    "                        & has_players_number.exactly(1)] \n",
    "        pass\n",
    "    class TeamGame(Game):\n",
    "        equivalent_to = [MultiPlayerGame\n",
    "                        & has_team.only(True)]      \n",
    "        pass\n",
    "    class PhysicalActivityGame(Game):\n",
    "        pass\n",
    "    class IntelectualGame(Game):\n",
    "        pass\n",
    "    class SportEquipment(Equipment):\n",
    "        pass\n",
    "    class Table(Equipment):\n",
    "        pass\n",
    "    class Dice(Equipment):\n",
    "        pass\n",
    "    class Paper(Equipment):\n",
    "        pass\n",
    "    class Pencil(Equipment):\n",
    "        pass\n",
    "    class Computer(Equipment):\n",
    "        pass\n",
    "    class Ball(Equipment):\n",
    "        pass\n",
    "    class Lawn(Field):\n",
    "        pass\n",
    "    class Board(Field):\n",
    "        pass\n",
    "    class Fan(Spectator):\n",
    "        equivalent_to = [Spectator\n",
    "                        & has_interest_in.only(Game)]\n",
    "        pass\n",
    "    class Kibitzer(Spectator):\n",
    "        equivalent_to = [Spectator\n",
    "                        & has_to_remain_silent.only(True)]\n",
    "        pass\n",
    "    class SportGame(PhysicalActivityGame):\n",
    "        equivalent_to = [PhysicalActivityGame\n",
    "                        & require.some(SportEquipment)\n",
    "                        & watched_by.some(Spectator)\n",
    "                        & is_professional.some(True)]\n",
    "        pass\n",
    "    class LawnGame(SportGame):\n",
    "        equivalent_to = [SportGame\n",
    "                        & played_on.only(Lawn)]\n",
    "        pass\n",
    "    class BallGame(SportGame):\n",
    "        equivalent_to = [SportGame\n",
    "                        & require.only(Ball)]\n",
    "        pass\n",
    "    class TeamSportGame(TeamGame, SportGame):\n",
    "        pass\n",
    "    class IndividualSportGame(SinglePlayerGame, SportGame):\n",
    "        pass\n",
    "    class LogicalGame(IntelectualGame):\n",
    "        pass\n",
    "    class StrategyGame(IntelectualGame):\n",
    "        pass\n",
    "    class KnowledgeGame(IntelectualGame):\n",
    "        pass\n",
    "    class TableTopGame(LogicalGame, StrategyGame):\n",
    "        equivalent_to = [LogicalGame\n",
    "                        & StrategyGame\n",
    "                        & (MultiPlayerGame | SinglePlayerGame)\n",
    "                        & require.only(Table)\n",
    "                        & is_professional.some(True)]\n",
    "        pass\n",
    "    class BoardGame(TableTopGame):\n",
    "        equivalent_to = [TableTopGame\n",
    "                        & played_on.only(Board)]\n",
    "        pass\n",
    "    class CardGame(TableTopGame):\n",
    "        equivalent_to = [TableTopGame\n",
    "                        & require.only(Card)]\n",
    "        pass\n",
    "    class DiceGame(TableTopGame):\n",
    "        equivalent_to = [TableTopGame\n",
    "                        & require.only(Dice)]\n",
    "        pass\n",
    "    class PaperAndPencilGame(TableTopGame):\n",
    "        equivalent_to = [TableTopGame\n",
    "                        & require.only(Paper)\n",
    "                        & require.only(Pencil)]\n",
    "        pass\n",
    "    class VideoGame(Game):\n",
    "        is_a = [video_game_ontology.Game]\n",
    "        equivalent_to = [Game\n",
    "                        & require.only(Computer)\n",
    "                        & is_professional.some(True)]\n"
   ]
  },
  {
   "cell_type": "markdown",
   "metadata": {},
   "source": [
    "# Instances"
   ]
  },
  {
   "cell_type": "code",
   "execution_count": 52,
   "metadata": {},
   "outputs": [],
   "source": [
    "horseshoes = LawnGame(\"horseshoes\")\n",
    "croquet = LawnGame(\"croquet\")\n",
    "\n",
    "football = BallGame(\"football\", has_team = True, is_professional = True)\n",
    "basketball = BallGame(\"basketball\", has_team = True, is_professional = True)\n",
    "volleyball = BallGame(\"volleyball\", has_team = True, is_professional = True)\n",
    "\n",
    "chess = BoardGame(\"chess\", has_players_number = 2)\n",
    "go = BoardGame(\"go\", has_players_number = 2)\n",
    "\n",
    "bridge = CardGame(\"bridge\", has_players_number = 4)\n",
    "poker = CardGame(\"poker\")\n",
    "\n",
    "poker_dice = DiceGame(\"poker_dice\")\n",
    "\n",
    "tic_tac_toe = PaperAndPencilGame(\"tic_tac_toe\", has_players_number = 2)\n",
    "sudoku = PaperAndPencilGame(\"sudoku\")\n",
    "\n",
    "pong = VideoGame(\"pong\")\n",
    "minecraft = VideoGame(\"minecraft\")\n",
    "super_mario = VideoGame(\"super_mario\", has_players_number = 1, is_amateur = True)\n",
    "\n",
    "jack = Card(\"jack\")\n",
    "queen = Card(\"queen\", has_greater_value_than = [jack])\n",
    "king = Card(\"king\", has_greater_value_than = [queen])"
   ]
  },
  {
   "cell_type": "markdown",
   "metadata": {},
   "source": [
    "## Tests"
   ]
  },
  {
   "cell_type": "code",
   "execution_count": 53,
   "metadata": {},
   "outputs": [
    {
     "name": "stdout",
     "output_type": "stream",
     "text": [
      "[game_ontology.queen]\n",
      "[game_ontology.jack, game_ontology.queen]\n",
      "[game_ontology.queen, game_ontology.king]\n",
      "[game_ontology.Game]\n"
     ]
    }
   ],
   "source": [
    "print(king.has_greater_value_than)\n",
    "print(king.INDIRECT_has_greater_value_than)\n",
    "print(jack.INDIRECT_has_less_value_than)\n",
    "\n",
    "# prints list of all superclasses\n",
    "print(TeamGame.is_a)"
   ]
  },
  {
   "cell_type": "markdown",
   "metadata": {},
   "source": [
    "## Save"
   ]
  },
  {
   "cell_type": "code",
   "execution_count": 54,
   "metadata": {},
   "outputs": [],
   "source": [
    "game_ontology.save(\"../game_ontology.owl\")"
   ]
  }
 ],
 "metadata": {
  "interpreter": {
   "hash": "fb4a1f5fcbdc1843cceb89530bfbd4edb5e351340a874a23daccaa978c3276ee"
  },
  "kernelspec": {
   "display_name": "Python 3.10.0 64-bit",
   "language": "python",
   "name": "python3"
  },
  "language_info": {
   "codemirror_mode": {
    "name": "ipython",
    "version": 3
   },
   "file_extension": ".py",
   "mimetype": "text/x-python",
   "name": "python",
   "nbconvert_exporter": "python",
   "pygments_lexer": "ipython3",
   "version": "3.10.0"
  },
  "orig_nbformat": 4
 },
 "nbformat": 4,
 "nbformat_minor": 2
}
