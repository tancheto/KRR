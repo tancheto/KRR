{
 "cells": [
  {
   "cell_type": "code",
   "execution_count": 118,
   "metadata": {},
   "outputs": [],
   "source": [
    "# imports\n",
    "from owlready2 import *"
   ]
  },
  {
   "cell_type": "markdown",
   "metadata": {},
   "source": [
    "# Create ontology"
   ]
  },
  {
   "cell_type": "code",
   "execution_count": 119,
   "metadata": {},
   "outputs": [],
   "source": [
    "# create new ontology\n",
    "game_ontology = get_ontology('http://test.org/game_ontology.owl')\n",
    "game_ontology.destroy()\n",
    "game_ontology = get_ontology('http://test.org/game_ontology.owl')"
   ]
  },
  {
   "cell_type": "markdown",
   "metadata": {},
   "source": [
    "## Atomic concepts and their properties"
   ]
  },
  {
   "cell_type": "code",
   "execution_count": 120,
   "metadata": {},
   "outputs": [],
   "source": [
    "with game_ontology:\n",
    "    # Classes (1 - 5)\n",
    "    class Game(Thing):\n",
    "        pass\n",
    "    class Field(Thing):\n",
    "        pass\n",
    "    class Equipment(Thing):\n",
    "        pass    \n",
    "    class Spectator(Thing):\n",
    "        pass\n",
    "    class Player(Thing):\n",
    "        pass\n",
    "\n",
    "    # Properties (1 - 11)\n",
    "    class played_on(Game >> Field):\n",
    "        pass\n",
    "\n",
    "    class require(Game >> Equipment):\n",
    "        pass\n",
    "\n",
    "    class has_duration(Game >> int):\n",
    "        pass\n",
    "\n",
    "    class is_professional(Game >> bool, FunctionalProperty):\n",
    "        pass\n",
    "    class is_amateur(Game >> bool, FunctionalProperty):\n",
    "        Not(is_professional)\n",
    "        pass\n",
    "\n",
    "    class plays(Player >> Game):\n",
    "        pass\n",
    "    class played_by(Game >> Player):\n",
    "        inverse_property = plays\n",
    "        pass\n",
    "\n",
    "    class watches(Spectator >> Game):\n",
    "        pass\n",
    "    class watched_by(Game >> Spectator):\n",
    "        inverse_property = watches\n",
    "        pass\n",
    "    class has_interest_in(Spectator >> Game):\n",
    "        pass\n",
    "    class has_to_remain_silent(Spectator >> bool, FunctionalProperty):\n",
    "        pass"
   ]
  },
  {
   "cell_type": "markdown",
   "metadata": {},
   "source": [
    "## Composed concepts and their properties"
   ]
  },
  {
   "cell_type": "markdown",
   "metadata": {},
   "source": [
    "### Fields"
   ]
  },
  {
   "cell_type": "code",
   "execution_count": 121,
   "metadata": {},
   "outputs": [],
   "source": [
    "with game_ontology:\n",
    "    # Classes (6 - 7)\n",
    "    class Lawn(Field):\n",
    "        pass\n",
    "    class Board(Field):\n",
    "        pass    \n",
    "\n",
    "    # Properties (12 - 12)\n",
    "    class is_custom_board(Board >> bool, FunctionalProperty):\n",
    "        pass"
   ]
  },
  {
   "cell_type": "markdown",
   "metadata": {},
   "source": [
    "### Equipments"
   ]
  },
  {
   "cell_type": "code",
   "execution_count": 122,
   "metadata": {},
   "outputs": [],
   "source": [
    "with game_ontology:\n",
    "    # Classes (8 - 16)\n",
    "    class Table(Equipment):\n",
    "        pass\n",
    "    class Card(Equipment):\n",
    "        pass\n",
    "    class Dice(Equipment):\n",
    "        pass\n",
    "    class Pawn(Equipment):\n",
    "        pass\n",
    "    class Paper(Equipment):\n",
    "        pass\n",
    "    class Pencil(Equipment):\n",
    "        pass\n",
    "    class Computer(Equipment):\n",
    "        pass\n",
    "    class SportEquipment(Equipment):\n",
    "        pass\n",
    "    class Ball(SportEquipment):\n",
    "        pass\n",
    "\n",
    "    # Properties (13 - 20)\n",
    "    class is_normal_card(Card >> bool, FunctionalProperty):\n",
    "        pass\n",
    "    class is_custom_card(Card >> bool, FunctionalProperty):\n",
    "        Not(is_normal_card)\n",
    "        pass\n",
    "\n",
    "    class has_sides(Dice >> int, FunctionalProperty):\n",
    "        pass\n",
    "    class has_number(Dice >> int, FunctionalProperty):\n",
    "        pass\n",
    "    class has_greater_number_than(Dice >> Dice, TransitiveProperty):\n",
    "        pass\n",
    "    class has_lower_number_than(Dice >> Dice, TransitiveProperty):\n",
    "        inverse_property = has_greater_number_than\n",
    "        pass\n",
    "    \n",
    "    class is_blank(Paper >> bool, FunctionalProperty):\n",
    "        pass\n",
    "    class has_color(Pencil >> str):\n",
    "        pass"
   ]
  },
  {
   "cell_type": "markdown",
   "metadata": {},
   "source": [
    "### Spectators"
   ]
  },
  {
   "cell_type": "code",
   "execution_count": 123,
   "metadata": {},
   "outputs": [],
   "source": [
    "with game_ontology:\n",
    "    # Classes (17 - 18)\n",
    "    class Fan(Spectator):\n",
    "        is_a = [has_interest_in.only(Game)]\n",
    "        pass\n",
    "    class Kibitzer(Spectator):\n",
    "        is_a = [watches.only(Game)\n",
    "                & has_to_remain_silent.value(True)]\n",
    "        pass\n",
    "\n",
    "    # Properties (21 - 22)\n",
    "    class has_favourite(Fan >> Player):\n",
    "        pass\n",
    "    class has_fans(Player >> Fan):\n",
    "        inverse_property = has_favourite\n",
    "        pass"
   ]
  },
  {
   "cell_type": "markdown",
   "metadata": {},
   "source": [
    "### Games by number of players"
   ]
  },
  {
   "cell_type": "code",
   "execution_count": 124,
   "metadata": {},
   "outputs": [],
   "source": [
    "with game_ontology:\n",
    "    # Classes (19 -20)\n",
    "    class SinglePlayerGame(Game):\n",
    "        is_a = [played_by.exactly(1, Player)] \n",
    "        pass\n",
    "    class MultiPlayerGame(Game):\n",
    "        is_a = [played_by.min(2, Player)]\n",
    "        pass\n",
    "    \n",
    "    # Properties (23 - 25)\n",
    "    class has_players_number(MultiPlayerGame >> int):\n",
    "        pass\n",
    "    class has_team(MultiPlayerGame >> bool, FunctionalProperty):\n",
    "        pass\n",
    "    class has_opponent(MultiPlayerGame >> bool, FunctionalProperty):\n",
    "        pass"
   ]
  },
  {
   "cell_type": "markdown",
   "metadata": {},
   "source": [
    "### Games by activity"
   ]
  },
  {
   "cell_type": "code",
   "execution_count": 125,
   "metadata": {},
   "outputs": [],
   "source": [
    "with game_ontology:\n",
    "    # Classes (21 - 25)\n",
    "    class IntelectualGame(Game):\n",
    "        pass\n",
    "    class LogicalGame(IntelectualGame):\n",
    "        pass\n",
    "    class StrategyGame(IntelectualGame):\n",
    "        pass\n",
    "    class KnowledgeGame(IntelectualGame):\n",
    "        pass\n",
    "    class PhysicalActivityGame(Game):\n",
    "        pass\n",
    "        \n",
    "    # Properties (-)\n",
    "    ..."
   ]
  },
  {
   "cell_type": "markdown",
   "metadata": {},
   "source": [
    "### Sport Games"
   ]
  },
  {
   "cell_type": "code",
   "execution_count": 126,
   "metadata": {},
   "outputs": [],
   "source": [
    "with game_ontology:\n",
    "    # Classes (26 - 31)\n",
    "    class TeamGame(MultiPlayerGame):\n",
    "        is_a = [has_team.value(True)]      \n",
    "        pass\n",
    "    class SportGame(PhysicalActivityGame):\n",
    "        is_a = [require.only(SportEquipment)\n",
    "                & watched_by.some(Spectator)]\n",
    "        pass\n",
    "    class IndividualSportGame(SinglePlayerGame, SportGame):\n",
    "        pass\n",
    "    class TeamSportGame(TeamGame, SportGame):\n",
    "        pass\n",
    "    class ProfessionalSportGame(SportGame):\n",
    "        is_a = [is_professional.value(True)] \n",
    "        pass \n",
    "    class ProfessionalBallGameOnLawn(ProfessionalSportGame):\n",
    "        is_a = [require.min(1, Ball)\n",
    "                & played_on.only(Lawn)]\n",
    "        pass\n",
    "    \n",
    "    # Properties (26 - 26)\n",
    "    class has_referee(ProfessionalSportGame >> bool, FunctionalProperty):\n",
    "        pass"
   ]
  },
  {
   "cell_type": "markdown",
   "metadata": {},
   "source": [
    "### Cards"
   ]
  },
  {
   "cell_type": "code",
   "execution_count": 127,
   "metadata": {},
   "outputs": [],
   "source": [
    "with game_ontology:\n",
    "    # Classes (32 - 33)\n",
    "    class PlayingCard(Card):\n",
    "        is_a = [is_normal_card.value(True)] \n",
    "        pass\n",
    "    class MagicCard(Card):\n",
    "        is_a = [is_custom_card.value(True)]\n",
    "        pass\n",
    "\n",
    "    class CardSuit(Thing):\n",
    "        pass\n",
    "    class CardValue(Thing):\n",
    "        pass\n",
    "\n",
    "    # Properties (27 - 32)    \n",
    "    class has_suit(PlayingCard >> CardSuit, FunctionalProperty):\n",
    "        pass\n",
    "    class has_value(PlayingCard >> CardValue, FunctionalProperty):\n",
    "        pass\n",
    "    class has_greater_value_than(PlayingCard >> PlayingCard, TransitiveProperty):\n",
    "        pass\n",
    "    class has_lower_value_than(PlayingCard >> PlayingCard, TransitiveProperty):\n",
    "        inverse_property = has_greater_value_than\n",
    "        pass\n",
    "\n",
    "    class has_type(MagicCard >> str, FunctionalProperty):\n",
    "        pass\n",
    "    class has_effect(MagicCard >> str):\n",
    "        pass\n",
    "\n",
    "suits = [CardSuit('Spades'), CardSuit('Hearts'), CardSuit('Diamonds'), CardSuit('Clubs')]\n",
    "CardSuit.is_a.append(OneOf(suits))\n",
    "\n",
    "values = [CardValue('Two'), CardValue('Three'), CardValue('Four'), CardValue('Five'),\n",
    "          CardValue('Six'), CardValue('Seven'), CardValue('Eight'), CardValue('Nine'),\n",
    "          CardValue('Ten'), CardValue('Jack'), CardValue('Queen'), CardValue('King'), CardValue('Ace')]\n",
    "CardValue.is_a.append(OneOf(values))"
   ]
  },
  {
   "cell_type": "markdown",
   "metadata": {},
   "source": [
    "### Table Games"
   ]
  },
  {
   "cell_type": "code",
   "execution_count": 128,
   "metadata": {},
   "outputs": [],
   "source": [
    "with game_ontology:\n",
    "    # Classes (34 - 39)\n",
    "    class VideoGame(Game):\n",
    "        is_a = [require.min(1, Computer)\n",
    "                & require.some(Table)]\n",
    "        pass\n",
    "    class TableTopGame(LogicalGame, StrategyGame):\n",
    "        is_a = [require.min(1, Table)]\n",
    "        pass\n",
    "    class BoardGame(TableTopGame):\n",
    "        is_a = [played_on.only(Board)]\n",
    "        pass\n",
    "    class DiceGame(TableTopGame):\n",
    "        is_a = [require.some(Dice)]\n",
    "        pass\n",
    "    class PaperAndPencilGame(TableTopGame):\n",
    "        is_a = [require.some(Paper & Pencil)]\n",
    "        pass\n",
    "    class CardGame(TableTopGame):\n",
    "        is_a = [require.some(Card)]\n",
    "        pass\n",
    "    \n",
    "    # Properties (33 - 33)\n",
    "    class need(require):\n",
    "        domain    = [BoardGame]\n",
    "        range     = [MagicCard | Dice | Pawn | Paper | Pencil]\n",
    "        pass"
   ]
  },
  {
   "cell_type": "markdown",
   "metadata": {},
   "source": [
    "# Instances"
   ]
  },
  {
   "cell_type": "code",
   "execution_count": 129,
   "metadata": {},
   "outputs": [],
   "source": [
    "# Instances - ???\n",
    "tennis_ball = Ball('tennis_ball')\n",
    "tennis_court_clay = Field('tennis_court_clay')\n",
    "tennis_court_hard = Field('tennis_court_hard')\n",
    "tennis_racket = Equipment('tennis_racket')\n",
    "tennis = ProfessionalSportGame('tennis', require = [tennis_ball, tennis_racket], played_on = [tennis_court_clay, tennis_court_hard])\n",
    "\n",
    "green = Lawn('green')\n",
    "golf_ball = Ball('golf_ball')\n",
    "golf_stick = SportEquipment('golf_stick')\n",
    "golf = ProfessionalBallGameOnLawn('golf', require = [golf_ball, golf_stick], played_on = [green])\n",
    "golf.is_a.append(IndividualSportGame)\n",
    "\n",
    "football = ProfessionalBallGameOnLawn('football', has_referee = True, has_duration = [90])\n",
    "football.is_a.append(TeamSportGame)\n",
    "\n",
    "desk = Table('desk')\n",
    "laptop = Computer('laptop')\n",
    "hardstone = VideoGame('Hardstone', require = [laptop, desk])\n",
    "\n",
    "paper = Paper('paper', is_blank = True)\n",
    "pencil = Pencil('pencil', has_color = ['red', 'blue'])\n",
    "tic_tac_toe = PaperAndPencilGame('tic_tac_toe', require = [paper, pencil], is_amateur = True)\n",
    "\n",
    "pawn = Pawn('pawn')\n",
    "knight = Pawn('knight')\n",
    "bishop = Pawn('bishop')\n",
    "rook = Pawn('rook')\n",
    "queen = Pawn('queen')\n",
    "king = Pawn('king')\n",
    "chess_board = Board('chess_board')\n",
    "chess = BoardGame('chess', played_on = [chess_board], need = [pawn, knight, bishop, rook, queen, king])\n",
    "chess.is_a.append(MultiPlayerGame)\n",
    "chess.is_a.append(has_opponent.value(True))\n",
    "chess.is_a.append(has_players_number.value(2))\n",
    "\n",
    "who_wants_to_be_a_millionaire = KnowledgeGame('who_wants_to_be_a_millionaire')\n",
    "who_wants_to_be_a_millionaire.is_a.append(SinglePlayerGame)\n",
    "\n",
    "table = Table('table')\n",
    "go_board = Board('go_board', is_custom_board = True)\n",
    "go = IntelectualGame('go', has_players_number = [2], has_opponent = True, require = [table], played_on = [go_board])\n",
    "go.is_a.append(LogicalGame)\n",
    "go.is_a.append(StrategyGame)\n",
    "\n",
    "North = Player('North', plays = [golf, football])\n",
    "East = Player('East', plays = [hardstone])\n",
    "South = Player('South')\n",
    "West = Player('West')\n",
    "\n",
    "kibitzer = Kibitzer('kibitzer', watches = [football], has_interest_in = [hardstone])\n",
    "fan = Fan('fan', has_favourite = [East, West], watches = [tennis])\n",
    "spectator = Spectator('spectator', has_interest_in = [football, chess])\n",
    "\n",
    "deck = []\n",
    "card = None\n",
    "for suit in CardSuit.instances():\n",
    "    prev_card = None\n",
    "    for value in CardValue.instances():\n",
    "        s = suit.get_name()\n",
    "        v = value.get_name()\n",
    "        if prev_card:\n",
    "            card = PlayingCard(f'{v}_of_{s}', has_suit = suit, has_value = value, has_greater_value_than = [prev_card])\n",
    "        else:\n",
    "            card = PlayingCard(f'{v}_of_{s}', has_suit = suit, has_value = value)\n",
    "        deck.append(card)\n",
    "        prev_card = card\n",
    "\n",
    "bridge = CardGame('Bridge', played_by = [North, East, South, West], watched_by = [fan, kibitzer], require = deck)\n",
    "\n",
    "dice_6 = Dice('dice_6', has_sides = 6, has_number = 5) \n",
    "dice_12 = Dice('dice_12', has_sides = 12, has_number = 3, has_lower_number_than = [dice_6])\n",
    "dice_8 = Dice('dice_8', has_sides = 8, has_number = 7, has_greater_number_than = [dice_6, dice_12])\n",
    "backgammon = BoardGame('Backgammon', require = [dice_6], has_opponent = True).is_a.append(MultiPlayerGame)\n",
    "\n",
    "catan = BoardGame('Catan', require = [MagicCard], has_team = False)       "
   ]
  },
  {
   "cell_type": "markdown",
   "metadata": {},
   "source": [
    "# Test"
   ]
  },
  {
   "cell_type": "code",
   "execution_count": 130,
   "metadata": {},
   "outputs": [],
   "source": [
    "def tests():\n",
    "    # sport games\n",
    "    print(tennis_racket.is_a)                          # Equipment -> SportEquipment\n",
    "    print(golf.get_properties())                       # require & played on & played by\n",
    "    print(football.INDIRECT_get_properties())          # professional & team & referee & duration & played by & watched by\n",
    "\n",
    "    # board games\n",
    "    print(chess.__class__)                             # BoardGame & MultiPlayerGame\n",
    "    print(chess.is_instance_of)                        # BoardGame & MultiPlayerGame & has 2 players & has opponent\n",
    "    print(chess.need)                                  # pawn & knight & bishop & rook & queen & king\n",
    "    print(go.is_a)                                     # IntelectualGame & LogicalGame & StrategyGame -> BoardGame & MultiPlayerGame\n",
    "\n",
    "    # card games\n",
    "    print(bridge.played_by)                            # North & East & South & West\n",
    "    print(bridge.is_a)                                 # CardGame -> CardGame & MultiPlayerGame\n",
    "    print(catan.require)                               # MagicCards\n",
    "    print(catan.get_properties())                      # has_team & require\n",
    "    print(catan.is_a)                                  # BoardGame -> BoardGame & MultiPlayerGame\n",
    "\n",
    "    # cards\n",
    "    print(deck[12].has_greater_value_than)             # KS\n",
    "    print(deck[12].INDIRECT_has_greater_value_than)    # All spades without AS - (12 cards)\n",
    "    print(deck[19].INDIRECT_has_lower_value_than)      # 9H & 10H & JH & QH & KH & AH - (6 cards)\n",
    "\n",
    "    # dices\n",
    "    print(dice_12.has_lower_number_than)               # dice_6 & dice_8\n",
    "    print(dice_12.has_greater_number_than)             # [] (empty list because dice_12 has smallest number)\n",
    "\n",
    "# tests()"
   ]
  },
  {
   "cell_type": "markdown",
   "metadata": {},
   "source": [
    "### Reasoning"
   ]
  },
  {
   "cell_type": "code",
   "execution_count": 131,
   "metadata": {},
   "outputs": [],
   "source": [
    "def reasoner():\n",
    "    owlready2.JAVA_EXE = \"C:\\\\Program Files\\\\java\\\\jdk-17\\\\bin\\\\java.exe\"\n",
    "\n",
    "    with game_ontology:\n",
    "        sync_reasoner_pellet(infer_property_values = True, infer_data_property_values = True)\n",
    "\n",
    "# reasoner()"
   ]
  },
  {
   "cell_type": "markdown",
   "metadata": {},
   "source": [
    "# Save"
   ]
  },
  {
   "cell_type": "code",
   "execution_count": 132,
   "metadata": {},
   "outputs": [],
   "source": [
    "game_ontology.save('../game_ontology.owl')"
   ]
  }
 ],
 "metadata": {
  "interpreter": {
   "hash": "fbb3a7dd72f38643c85dee6e15dec5118a97291d3b5b1ec2f06076789b8a1b78"
  },
  "kernelspec": {
   "display_name": "Python 3.10.1 64-bit ('knowledge-representation-and-reasoning': venv)",
   "language": "python",
   "name": "python3"
  },
  "language_info": {
   "codemirror_mode": {
    "name": "ipython",
    "version": 3
   },
   "file_extension": ".py",
   "mimetype": "text/x-python",
   "name": "python",
   "nbconvert_exporter": "python",
   "pygments_lexer": "ipython3",
   "version": "3.10.2"
  },
  "orig_nbformat": 4
 },
 "nbformat": 4,
 "nbformat_minor": 2
}
