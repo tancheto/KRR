{
 "cells": [
  {
   "cell_type": "markdown",
   "metadata": {},
   "source": [
    "### In the knowledge base, you should include: \n",
    "- Concepts (classes) - at least 15: Both atomic and composed (by EXISTS, FILLS, ALL, AND),\n",
    "- Individuals (Instances) - at least 15, \n",
    "- Properties: at least 10: with suitable domain and range, some of them should be functional, transitive, or inverse of other properties in the KB.\n",
    "\n",
    "### Give examples of reasoning over the knowledge base: \n",
    "- KB |= (c → e)  - at least 1,\n",
    "- KB |= (c ⊑ d) - at least 1,\n",
    "- Classification - at least 1."
   ]
  },
  {
   "cell_type": "code",
   "execution_count": 1030,
   "metadata": {},
   "outputs": [],
   "source": [
    "# imports\n",
    "from owlready2 import *"
   ]
  },
  {
   "cell_type": "markdown",
   "metadata": {},
   "source": [
    "# Create ontology"
   ]
  },
  {
   "cell_type": "code",
   "execution_count": 1031,
   "metadata": {},
   "outputs": [],
   "source": [
    "# create new ontology\n",
    "game_ontology = get_ontology(\"http://test.org/game_ontology.owl\")\n",
    "game_ontology.destroy()\n",
    "game_ontology = get_ontology(\"http://test.org/game_ontology.owl\")"
   ]
  },
  {
   "cell_type": "markdown",
   "metadata": {},
   "source": [
    "## Atomic concepts and their properties"
   ]
  },
  {
   "cell_type": "code",
   "execution_count": 1032,
   "metadata": {},
   "outputs": [],
   "source": [
    "with game_ontology:\n",
    "    # Classes (1 - 5)\n",
    "    class Game(Thing):\n",
    "        pass\n",
    "    class Field(Thing):\n",
    "        pass\n",
    "    class Equipment(Thing):\n",
    "        pass    \n",
    "    class Spectator(Thing):\n",
    "        pass\n",
    "    class Player(Thing):\n",
    "        pass\n",
    "\n",
    "    # Properties (1 - 12)\n",
    "    class played_on(Game >> Field):\n",
    "        pass\n",
    "\n",
    "    class require(Game >> Equipment):\n",
    "        pass\n",
    "\n",
    "    class has_players_number(Game >> int):\n",
    "        pass\n",
    "\n",
    "    class has_duration(Game >> int):\n",
    "        pass\n",
    "\n",
    "    class is_professional(Game >> bool, FunctionalProperty):\n",
    "        pass\n",
    "    class is_amateur(Game >> bool, FunctionalProperty):\n",
    "        Not(is_professional)\n",
    "        pass\n",
    "\n",
    "    class plays(Player >> Game):\n",
    "        pass\n",
    "    class is_played_by(Game >> Player):\n",
    "        inverse_property = plays\n",
    "        pass\n",
    "\n",
    "    class watch(Spectator >> Game):\n",
    "        pass\n",
    "    class watched_by(Game >> Spectator):\n",
    "        inverse_property = watch\n",
    "        pass\n",
    "    class has_interest_in(Spectator >> Game):\n",
    "        pass\n",
    "    class has_to_remain_silent(Spectator >> bool, FunctionalProperty):\n",
    "        pass"
   ]
  },
  {
   "cell_type": "markdown",
   "metadata": {},
   "source": [
    "## Composed concepts and their properties"
   ]
  },
  {
   "cell_type": "markdown",
   "metadata": {},
   "source": [
    "### Fields"
   ]
  },
  {
   "cell_type": "code",
   "execution_count": 1033,
   "metadata": {},
   "outputs": [],
   "source": [
    "with game_ontology:\n",
    "    # Classes (6 - 7)\n",
    "    class Lawn(Field):\n",
    "        pass\n",
    "    class Board(Field):\n",
    "        pass    \n",
    "\n",
    "    # Properties (13 - 13)\n",
    "    class is_custom_board(Board >> bool, FunctionalProperty):\n",
    "        pass"
   ]
  },
  {
   "cell_type": "markdown",
   "metadata": {},
   "source": [
    "### Equipments"
   ]
  },
  {
   "cell_type": "code",
   "execution_count": 1034,
   "metadata": {},
   "outputs": [],
   "source": [
    "with game_ontology:\n",
    "    # Classes (8 - 16)\n",
    "    class Table(Equipment):\n",
    "        pass\n",
    "    class Card(Equipment):\n",
    "        pass\n",
    "    class Dice(Equipment):\n",
    "        pass\n",
    "    class Pawn(Equipment):\n",
    "        pass\n",
    "    class Paper(Equipment):\n",
    "        pass\n",
    "    class Pencil(Equipment):\n",
    "        pass\n",
    "    class Computer(Equipment):\n",
    "        pass\n",
    "    class SportEquipment(Equipment):\n",
    "        pass\n",
    "    class Ball(SportEquipment):\n",
    "        pass\n",
    "\n",
    "    # Properties (14 - 21)\n",
    "    class is_normal_card(Card >> bool, FunctionalProperty):\n",
    "        pass\n",
    "    class is_custom_card(Card >> bool, FunctionalProperty):\n",
    "        Not(is_normal_card)\n",
    "        pass\n",
    "\n",
    "    class has_sides(Dice >> int, FunctionalProperty):\n",
    "        pass\n",
    "    class has_number(Dice >> int, FunctionalProperty):\n",
    "        pass\n",
    "    class has_greater_number_than(Dice >> Dice, TransitiveProperty):\n",
    "        pass\n",
    "    class has_lower_number_than(Dice >> Dice, TransitiveProperty):\n",
    "        inverse_property = has_greater_number_than\n",
    "        pass\n",
    "    \n",
    "    class is_blank(Paper >> bool, FunctionalProperty):\n",
    "        pass\n",
    "    class has_color(Pencil >> str):\n",
    "        pass"
   ]
  },
  {
   "cell_type": "markdown",
   "metadata": {},
   "source": [
    "### Spectators"
   ]
  },
  {
   "cell_type": "code",
   "execution_count": 1035,
   "metadata": {},
   "outputs": [],
   "source": [
    "with game_ontology:\n",
    "    # Classes (17 - 18)\n",
    "    class Fan(Spectator):\n",
    "        equivalent_to = [Spectator\n",
    "                        & has_interest_in.only(Game)]\n",
    "        pass\n",
    "    class Kibitzer(Spectator):\n",
    "        equivalent_to = [Spectator\n",
    "                        & watch.only(Game)\n",
    "                        & has_to_remain_silent.value(True)]\n",
    "\n",
    "    # Properties (22 - 23)\n",
    "    class has_favourite(Fan >> Player):\n",
    "        pass\n",
    "    class has_fans(Player >> Fan):\n",
    "        inverse_property = has_favourite\n",
    "        pass"
   ]
  },
  {
   "cell_type": "markdown",
   "metadata": {},
   "source": [
    "### Games by number of players"
   ]
  },
  {
   "cell_type": "code",
   "execution_count": 1036,
   "metadata": {},
   "outputs": [],
   "source": [
    "with game_ontology:\n",
    "    # Classes (19 -20)\n",
    "    class SinglePlayerGame(Game):\n",
    "        equivalent_to = [Game\n",
    "                        & is_played_by.only(Player)\n",
    "                        & has_players_number.exactly(1)] \n",
    "        pass\n",
    "    class MultiPlayerGame(Game):\n",
    "        equivalent_to = [Game\n",
    "                        & is_played_by.some(Player)\n",
    "                        & has_players_number.min(2)]        \n",
    "        pass\n",
    "    \n",
    "    # Properties (24 - 25)\n",
    "    class has_team(MultiPlayerGame >> bool, FunctionalProperty):\n",
    "        pass\n",
    "    class has_opponent(MultiPlayerGame >> bool, FunctionalProperty):\n",
    "        pass"
   ]
  },
  {
   "cell_type": "markdown",
   "metadata": {},
   "source": [
    "### Games by activity"
   ]
  },
  {
   "cell_type": "code",
   "execution_count": 1037,
   "metadata": {},
   "outputs": [],
   "source": [
    "with game_ontology:\n",
    "    # Classes (21 - 25)\n",
    "    class IntelectualGame(Game):\n",
    "        pass\n",
    "    class LogicalGame(IntelectualGame):\n",
    "        pass\n",
    "    class StrategyGame(IntelectualGame):\n",
    "        pass\n",
    "    class KnowledgeGame(IntelectualGame):\n",
    "        pass\n",
    "    class PhysicalActivityGame(Game):\n",
    "        pass\n",
    "        \n",
    "    # Properties (-)\n",
    "    ..."
   ]
  },
  {
   "cell_type": "markdown",
   "metadata": {},
   "source": [
    "### Sport Games"
   ]
  },
  {
   "cell_type": "code",
   "execution_count": 1038,
   "metadata": {},
   "outputs": [],
   "source": [
    "with game_ontology:\n",
    "    # Classes (26 - 31)\n",
    "    class TeamGame(Game):\n",
    "        equivalent_to = [MultiPlayerGame\n",
    "                        & has_team.value(True)]      \n",
    "        pass\n",
    "    class SportGame(PhysicalActivityGame):\n",
    "        equivalent_to = [PhysicalActivityGame\n",
    "                        & require.some(SportEquipment)\n",
    "                        & watched_by.some(Spectator)]\n",
    "        pass\n",
    "    class IndividualSportGame(SinglePlayerGame, SportGame):\n",
    "        pass\n",
    "    class TeamSportGame(TeamGame, SportGame):\n",
    "        pass\n",
    "    class ProfessionalSportGame(SportGame):\n",
    "        equivalent_to = [SportGame\n",
    "                        & is_professional.value(True)] \n",
    "        pass \n",
    "    class ProfessionalBallGameOnLawn(ProfessionalSportGame):\n",
    "        equivalent_to = [ProfessionalSportGame\n",
    "                        & require.only(Ball)\n",
    "                        & played_on.only(Lawn)]\n",
    "        pass\n",
    "    \n",
    "    # Properties (26 - 26)\n",
    "    class has_referee(ProfessionalSportGame >> bool, FunctionalProperty):\n",
    "        pass"
   ]
  },
  {
   "cell_type": "markdown",
   "metadata": {},
   "source": [
    "### Cards"
   ]
  },
  {
   "cell_type": "code",
   "execution_count": 1039,
   "metadata": {},
   "outputs": [],
   "source": [
    "with game_ontology:\n",
    "    # Classes (32 - 35)\n",
    "    class PlayingCard(Card):\n",
    "        equivalent_to = [Card\n",
    "                        & is_normal_card.value(True)] \n",
    "        pass\n",
    "    class MagicCard(Card):\n",
    "        equivalent_to = [Card\n",
    "                        & is_custom_card.value(True)]\n",
    "        pass\n",
    "\n",
    "    class CardSuit(Thing):\n",
    "        pass\n",
    "    class CardValue(Thing):\n",
    "        pass\n",
    "\n",
    "    # Properties (27 - 32)    \n",
    "    class has_suit(PlayingCard >> CardSuit, FunctionalProperty):\n",
    "        pass\n",
    "    class has_value(PlayingCard >> CardValue, FunctionalProperty):\n",
    "        pass\n",
    "    class has_greater_value_than(PlayingCard >> PlayingCard, TransitiveProperty):\n",
    "        pass\n",
    "    class has_lower_value_than(PlayingCard >> PlayingCard, TransitiveProperty):\n",
    "        inverse_property = has_greater_value_than\n",
    "        pass\n",
    "\n",
    "    class has_type(MagicCard >> str, FunctionalProperty):\n",
    "        pass\n",
    "    class has_effect(MagicCard >> str):\n",
    "        pass\n",
    "\n",
    "suits = [CardSuit(\"Spades\"), CardSuit(\"Hearts\"), CardSuit(\"Diamonds\"), CardSuit(\"Clubs\")]\n",
    "CardSuit.is_a.append(OneOf(suits))\n",
    "\n",
    "values = [CardValue(\"Two\"), CardValue(\"Three\"), CardValue(\"Four\"), CardValue(\"Five\"),\n",
    "          CardValue(\"Six\"), CardValue(\"Seven\"), CardValue(\"Eight\"), CardValue(\"Nine\"),\n",
    "          CardValue(\"Ten\"), CardValue(\"Jack\"), CardValue(\"Queen\"), CardValue(\"King\"), CardValue(\"Ace\")]\n",
    "CardValue.is_a.append(OneOf(values))"
   ]
  },
  {
   "cell_type": "markdown",
   "metadata": {},
   "source": [
    "### Table Games"
   ]
  },
  {
   "cell_type": "code",
   "execution_count": 1040,
   "metadata": {},
   "outputs": [],
   "source": [
    "with game_ontology:\n",
    "    # Classes (36 - 41)\n",
    "    class VideoGame(Game):\n",
    "        equivalent_to = [Game\n",
    "                        & require.only(Table & Computer)]\n",
    "        pass\n",
    "    class TableTopGame(LogicalGame, StrategyGame):\n",
    "        equivalent_to = [LogicalGame\n",
    "                        & StrategyGame\n",
    "                        & (MultiPlayerGame | SinglePlayerGame)\n",
    "                        & require.only(Table)]\n",
    "        pass\n",
    "    class BoardGame(TableTopGame):\n",
    "        equivalent_to = [TableTopGame\n",
    "                        & played_on.only(Board)]\n",
    "        pass\n",
    "    class DiceGame(TableTopGame):\n",
    "        equivalent_to = [TableTopGame\n",
    "                        & require.only(Dice)]\n",
    "        pass\n",
    "    class PaperAndPencilGame(TableTopGame):\n",
    "        equivalent_to = [TableTopGame\n",
    "                        & require.only(Paper)\n",
    "                        & require.only(Pencil)]\n",
    "        pass\n",
    "    class CardGame(TableTopGame):\n",
    "        equivalent_to = [TableTopGame\n",
    "                        & require.only(Card)]\n",
    "        pass\n",
    "    \n",
    "    # Properties (33 - 33)\n",
    "    class need(require):\n",
    "        domain    = [BoardGame]\n",
    "        range     = [MagicCard | Dice | Pawn | Paper | Pencil]\n",
    "        pass"
   ]
  },
  {
   "cell_type": "markdown",
   "metadata": {},
   "source": [
    "# Instances"
   ]
  },
  {
   "cell_type": "code",
   "execution_count": 1041,
   "metadata": {},
   "outputs": [],
   "source": [
    "# Instances - 31\n",
    "green = Lawn(\"green\")\n",
    "golf_ball = Ball(\"golf_ball\")\n",
    "golf_stick = Equipment(\"golf_stick\")\n",
    "golf = ProfessionalBallGameOnLawn(played_on = [green], require = [golf_ball, golf_stick])\n",
    "\n",
    "football = ProfessionalBallGameOnLawn(\"football\", has_team = True, has_referee = True, has_duration = [90])\n",
    "\n",
    "go = BoardGame(\"go\", has_players_number = [2], has_opponent = True)\n",
    "\n",
    "pawn = Pawn(\"pawn\")\n",
    "knight = Pawn(\"knight\")\n",
    "bishop = Pawn(\"bishop\")\n",
    "rook = Pawn(\"rook\")\n",
    "queen = Pawn(\"queen\")\n",
    "king = Pawn(\"king\")\n",
    "chess = BoardGame(\"chess\", has_players_number = [2], need = [pawn, knight, bishop, rook, queen, king])\n",
    "\n",
    "pokemon_go = VideoGame(\"Pokemon Go\")\n",
    "\n",
    "north = Player(\"Yavor\")\n",
    "east = Player(\"Sasho\")\n",
    "south = Player(\"Tanya\")\n",
    "west = Player(\"Gosho\")\n",
    "\n",
    "kibitzer = Kibitzer(\"Pesho\", plays = [pokemon_go])\n",
    "fan = Fan(\"Tsetso\", has_favourite = [east, west], plays = [chess, pokemon_go])\n",
    "\n",
    "bridge = CardGame(\"bridge\", has_players_number = [4], is_played_by = [north, east, south, west], watched_by = [fan, kibitzer], require = [PlayingCard])\n",
    "\n",
    "king_of_spades = PlayingCard(\"King of Spades\", has_suit = CardSuit.instances()[0], has_value = CardValue.instances()[11])\n",
    "queen_of_hearts = PlayingCard(\"Queen of Hearts\", has_suit = CardSuit.instances()[1], has_value = CardValue.instances()[10], has_lower_value_than = [king_of_spades])\n",
    "jack_of_clubs = PlayingCard(\"Jack of Clubs\", has_suit = CardSuit.instances()[3], has_value = CardValue.instances()[9], has_lower_value_than = [king_of_spades, queen_of_hearts])\n",
    "ace_of_spades = PlayingCard(\"Ace of Spades\", has_suit = CardSuit.instances()[0], has_value = CardValue.instances()[12], has_greater_value_than = [king_of_spades])\n",
    "\n",
    "tic_tac_toe = PaperAndPencilGame(\"tic_tac_toe\", has_players_number = [2], is_amateur = True, has_opponent = True)\n",
    "\n",
    "dice_6 = Dice(\"6 sided dice\", has_sides = 6, has_number = 5) \n",
    "dice_12 = Dice(\"12 sided dice\", has_sides = 12, has_number = 3, has_lower_number_than = [dice_6])\n",
    "dice_8 = Dice(\"8 sided dice\", has_sides = 8, has_number = 7, has_greater_number_than = [dice_6, dice_12])\n",
    "\n",
    "backgammon = BoardGame(\"backgammon\", require = [dice_6], has_opponent = True).is_a.append(MultiPlayerGame)\n",
    "\n",
    "catan = BoardGame(\"Catan\", require = [MagicCard], has_team = False)"
   ]
  },
  {
   "cell_type": "markdown",
   "metadata": {},
   "source": [
    "# Test"
   ]
  },
  {
   "cell_type": "code",
   "execution_count": 1042,
   "metadata": {},
   "outputs": [
    {
     "name": "stdout",
     "output_type": "stream",
     "text": [
      "[game_ontology.Queen of Hearts, game_ontology.Jack of Clubs]\n",
      "[game_ontology.King of Spades, game_ontology.Card & game_ontology.is_normal_card.value(True), game_ontology.Jack of Clubs, game_ontology.Queen of Hearts]\n",
      "[game_ontology.Queen of Hearts, game_ontology.King of Spades, game_ontology.Card & game_ontology.is_normal_card.value(True), game_ontology.Ace of Spades]\n",
      "[]\n",
      "[game_ontology.6 sided dice, game_ontology.8 sided dice]\n",
      "[game_ontology.Two, game_ontology.Three, game_ontology.Four, game_ontology.Five, game_ontology.Six, game_ontology.Seven, game_ontology.Eight, game_ontology.Nine, game_ontology.Ten, game_ontology.Jack, game_ontology.Queen, game_ontology.King, game_ontology.Ace]\n"
     ]
    }
   ],
   "source": [
    "print(king_of_spades.has_greater_value_than)\n",
    "print(ace_of_spades.INDIRECT_has_greater_value_than)\n",
    "print(jack_of_clubs.INDIRECT_has_lower_value_than)\n",
    "\n",
    "print(dice_12.has_greater_number_than)\n",
    "print(dice_12.has_lower_number_than)\n",
    "\n",
    "print(CardValue.instances())"
   ]
  },
  {
   "cell_type": "markdown",
   "metadata": {},
   "source": [
    "# Save"
   ]
  },
  {
   "cell_type": "code",
   "execution_count": 1043,
   "metadata": {},
   "outputs": [],
   "source": [
    "game_ontology.save(\"../game_ontology.owl\")"
   ]
  }
 ],
 "metadata": {
  "interpreter": {
   "hash": "fbb3a7dd72f38643c85dee6e15dec5118a97291d3b5b1ec2f06076789b8a1b78"
  },
  "kernelspec": {
   "display_name": "Python 3.10.1 64-bit ('knowledge-representation-and-reasoning': venv)",
   "language": "python",
   "name": "python3"
  },
  "language_info": {
   "codemirror_mode": {
    "name": "ipython",
    "version": 3
   },
   "file_extension": ".py",
   "mimetype": "text/x-python",
   "name": "python",
   "nbconvert_exporter": "python",
   "pygments_lexer": "ipython3",
   "version": "3.10.1"
  },
  "orig_nbformat": 4
 },
 "nbformat": 4,
 "nbformat_minor": 2
}
